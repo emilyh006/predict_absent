{
  "cells": [
    {
      "cell_type": "code",
      "execution_count": 21,
      "metadata": {
        "id": "X6u5217kBoY-"
      },
      "outputs": [],
      "source": [
        "import pandas as pd\n",
        "import matplotlib.pyplot as plt\n",
        "import numpy as np\n",
        "import seaborn as sns"
      ]
    },
    {
      "cell_type": "code",
      "execution_count": 22,
      "metadata": {},
      "outputs": [],
      "source": [
        "dat = pd.read_csv('data/data.csv', low_memory=False)"
      ]
    },
    {
      "cell_type": "markdown",
      "metadata": {},
      "source": [
        "## Subset 31 questions & process data"
      ]
    },
    {
      "cell_type": "code",
      "execution_count": 23,
      "metadata": {},
      "outputs": [],
      "source": [
        "# Define all index ranges and individual indices\n",
        "mental_ix  = list(range(25, 30)) + [83, 105]\n",
        "home_ix    = list(range(88, 91)) + list(range(98, 102)) + [103]\n",
        "social_ix  = [13, 15, 18] + list(range(19, 25)) + [87, 102, 104]\n",
        "health_ix  = list(range(75, 78)) + [84]\n",
        "\n",
        "# Combine and sort unique indices\n",
        "all_indices = sorted(set(mental_ix + home_ix + social_ix + health_ix))\n",
        "\n",
        "# Subset columns by index\n",
        "dat1 = dat.iloc[:, all_indices].copy()"
      ]
    },
    {
      "cell_type": "code",
      "execution_count": 24,
      "metadata": {},
      "outputs": [
        {
          "data": {
            "text/plain": [
              "np.int64(10900)"
            ]
          },
          "execution_count": 24,
          "metadata": {},
          "output_type": "execute_result"
        }
      ],
      "source": [
        "num_rows_with_na = dat1.isna().any(axis=1).sum()\n",
        "num_rows_with_na"
      ]
    },
    {
      "cell_type": "code",
      "execution_count": 25,
      "metadata": {},
      "outputs": [
        {
          "data": {
            "text/plain": [
              "(9203, 31)"
            ]
          },
          "execution_count": 25,
          "metadata": {},
          "output_type": "execute_result"
        }
      ],
      "source": [
        "dat_cleaned = dat1.dropna(axis=0, how='any')\n",
        "dat_cleaned.shape"
      ]
    },
    {
      "cell_type": "code",
      "execution_count": 26,
      "metadata": {},
      "outputs": [
        {
          "name": "stdout",
          "output_type": "stream",
          "text": [
            "<class 'pandas.core.frame.DataFrame'>\n",
            "Index: 9203 entries, 1 to 11426\n",
            "Data columns (total 31 columns):\n",
            " #   Column  Non-Null Count  Dtype  \n",
            "---  ------  --------------  -----  \n",
            " 0   Q14     9203 non-null   float64\n",
            " 1   Q16     9203 non-null   float64\n",
            " 2   Q19     9203 non-null   float64\n",
            " 3   Q20     9203 non-null   float64\n",
            " 4   Q21     9203 non-null   float64\n",
            " 5   Q22     9203 non-null   float64\n",
            " 6   Q23     9203 non-null   float64\n",
            " 7   Q24     9203 non-null   float64\n",
            " 8   Q25     9203 non-null   float64\n",
            " 9   Q26     9203 non-null   float64\n",
            " 10  Q27     9203 non-null   float64\n",
            " 11  Q28     9203 non-null   float64\n",
            " 12  Q29     9203 non-null   float64\n",
            " 13  Q30     9203 non-null   float64\n",
            " 14  Q76     9203 non-null   float64\n",
            " 15  Q77     9203 non-null   float64\n",
            " 16  Q78     9203 non-null   float64\n",
            " 17  Q84     9203 non-null   float64\n",
            " 18  Q85     9203 non-null   float64\n",
            " 19  Q88     9203 non-null   float64\n",
            " 20  Q89     9203 non-null   float64\n",
            " 21  Q90     9203 non-null   float64\n",
            " 22  Q91     9203 non-null   float64\n",
            " 23  Q99     9203 non-null   float64\n",
            " 24  Q100    9203 non-null   float64\n",
            " 25  Q101    9203 non-null   float64\n",
            " 26  Q102    9203 non-null   float64\n",
            " 27  Q103    9203 non-null   float64\n",
            " 28  Q104    9203 non-null   float64\n",
            " 29  Q105    9203 non-null   float64\n",
            " 30  Q106    9203 non-null   float64\n",
            "dtypes: float64(31)\n",
            "memory usage: 2.2 MB\n"
          ]
        }
      ],
      "source": [
        "dat_cleaned.info()"
      ]
    },
    {
      "cell_type": "code",
      "execution_count": 27,
      "metadata": {},
      "outputs": [],
      "source": [
        "dat_cleaned = dat_cleaned.astype(int)"
      ]
    },
    {
      "cell_type": "markdown",
      "metadata": {},
      "source": [
        "### Recode necessary columns"
      ]
    },
    {
      "cell_type": "code",
      "execution_count": 28,
      "metadata": {},
      "outputs": [],
      "source": [
        "def recode_binary(df, cols):\n",
        "    df = df.copy()\n",
        "    for col in cols:\n",
        "        df[col] = df[col].apply(lambda x: 1 if x == 1 else 0)\n",
        "    return df"
      ]
    },
    {
      "cell_type": "code",
      "execution_count": 29,
      "metadata": {},
      "outputs": [],
      "source": [
        "def reverse_recode(df, cols):\n",
        "    df = df.copy()\n",
        "    for col in cols:\n",
        "        min_val = df[col].min()\n",
        "        max_val = df[col].max()\n",
        "        df[col] = (max_val + min_val) - df[col]\n",
        "    return df"
      ]
    },
    {
      "cell_type": "code",
      "execution_count": 30,
      "metadata": {},
      "outputs": [],
      "source": [
        "# Binary: 1.0 = Yes → 1, 2.0 = No → 0\n",
        "binary_cols = ['Q26', 'Q27', 'Q28', 'Q106', 'Q100', 'Q101', 'Q102', 'Q19', 'Q24', 'Q25', 'Q88', 'Q105']\n",
        "\n",
        "# Ordinal: need to reverse\n",
        "ordinal_cols = [                 \n",
        "    'Q99', 'Q104',                \n",
        "    'Q76', 'Q77', 'Q78', 'Q85'    \n",
        "]"
      ]
    },
    {
      "cell_type": "code",
      "execution_count": 31,
      "metadata": {},
      "outputs": [],
      "source": [
        "dat_final1 = recode_binary(dat_cleaned, binary_cols)\n",
        "dat_final = reverse_recode(dat_final1, ordinal_cols)"
      ]
    },
    {
      "cell_type": "code",
      "execution_count": 32,
      "metadata": {},
      "outputs": [],
      "source": [
        "dat_final['Q30'] = dat_final['Q30'].astype(int).map({1: 0, 3: 1, 2: 2})\n",
        "dat_final['Q85'] = dat_cleaned['Q85'].astype(int).map({\n",
        "    1: 3,\n",
        "    2: 2,\n",
        "    3: 1,\n",
        "    4: 0,\n",
        "    5: 0,\n",
        "    6: 0,\n",
        "    7: 1\n",
        "})"
      ]
    },
    {
      "cell_type": "markdown",
      "metadata": {},
      "source": [
        "#### Checking to make sure the recode is applied correct"
      ]
    },
    {
      "cell_type": "code",
      "execution_count": 33,
      "metadata": {},
      "outputs": [
        {
          "name": "stdout",
          "output_type": "stream",
          "text": [
            "Q27\n",
            "2    7143\n",
            "1    2060\n",
            "Name: count, dtype: int64\n",
            "Q27\n",
            "0    7143\n",
            "1    2060\n",
            "Name: count, dtype: int64\n"
          ]
        }
      ],
      "source": [
        "# Binary recode\n",
        "\n",
        "print(dat_cleaned['Q27'].value_counts())\n",
        "print(dat_final['Q27'].value_counts())"
      ]
    },
    {
      "cell_type": "code",
      "execution_count": 34,
      "metadata": {},
      "outputs": [
        {
          "name": "stdout",
          "output_type": "stream",
          "text": [
            "Q104\n",
            "5    4520\n",
            "4    3299\n",
            "3     792\n",
            "2     362\n",
            "1     230\n",
            "Name: count, dtype: int64\n",
            "Q104\n",
            "1    4520\n",
            "2    3299\n",
            "3     792\n",
            "4     362\n",
            "5     230\n",
            "Name: count, dtype: int64\n"
          ]
        }
      ],
      "source": [
        "# Ordinal reverse recode\n",
        "\n",
        "print(dat_cleaned['Q104'].value_counts())\n",
        "print(dat_final['Q104'].value_counts())"
      ]
    },
    {
      "cell_type": "code",
      "execution_count": 35,
      "metadata": {},
      "outputs": [
        {
          "name": "stdout",
          "output_type": "stream",
          "text": [
            "Q30\n",
            "1    8290\n",
            "3     717\n",
            "2     196\n",
            "Name: count, dtype: int64\n",
            "Q30\n",
            "0    8290\n",
            "1     717\n",
            "2     196\n",
            "Name: count, dtype: int64\n"
          ]
        }
      ],
      "source": [
        "# Special case 1 \n",
        "\n",
        "print(dat_cleaned['Q30'].value_counts())\n",
        "print(dat_final['Q30'].value_counts())"
      ]
    },
    {
      "cell_type": "code",
      "execution_count": 36,
      "metadata": {},
      "outputs": [
        {
          "name": "stdout",
          "output_type": "stream",
          "text": [
            "Q85\n",
            "4    2550\n",
            "3    2347\n",
            "5    1533\n",
            "2    1383\n",
            "1     876\n",
            "6     381\n",
            "7     133\n",
            "Name: count, dtype: int64\n",
            "Q85\n",
            "0    4464\n",
            "1    2480\n",
            "2    1383\n",
            "3     876\n",
            "Name: count, dtype: int64\n"
          ]
        }
      ],
      "source": [
        "# Special case 2 (U recode)\n",
        "\n",
        "print(dat_cleaned['Q85'].value_counts())\n",
        "print(dat_final['Q85'].value_counts())"
      ]
    },
    {
      "cell_type": "markdown",
      "metadata": {},
      "source": [
        "## Subset the data per domain"
      ]
    },
    {
      "cell_type": "code",
      "execution_count": 39,
      "metadata": {},
      "outputs": [],
      "source": [
        "# Create mapping of all_indices to relative positions\n",
        "index_map = {orig_idx: i for i, orig_idx in enumerate(all_indices)}\n",
        "\n",
        "# Remap each index list to match final data's column layout\n",
        "mental_ix_local = [index_map[i] for i in mental_ix]\n",
        "home_ix_local   = [index_map[i] for i in home_ix]\n",
        "social_ix_local = [index_map[i] for i in social_ix]\n",
        "health_ix_local = [index_map[i] for i in health_ix]\n",
        "\n",
        "# Create combined index lists\n",
        "home_context_ix   = mental_ix_local + home_ix_local\n",
        "social_context_ix = mental_ix_local + social_ix_local\n",
        "health_context_ix = mental_ix_local + health_ix_local"
      ]
    },
    {
      "cell_type": "code",
      "execution_count": 40,
      "metadata": {},
      "outputs": [],
      "source": [
        "home_context = dat_cleaned.iloc[:, home_context_ix].copy()\n",
        "social_context = dat_cleaned.iloc[:, social_context_ix].copy()\n",
        "health_context = dat_cleaned.iloc[:, health_context_ix].copy()"
      ]
    },
    {
      "cell_type": "code",
      "execution_count": 42,
      "metadata": {},
      "outputs": [
        {
          "name": "stdout",
          "output_type": "stream",
          "text": [
            "['Q26', 'Q27', 'Q28', 'Q29', 'Q30', 'Q84', 'Q106', 'Q89', 'Q90', 'Q91', 'Q99', 'Q100', 'Q101', 'Q102', 'Q104']\n",
            "['Q26', 'Q27', 'Q28', 'Q29', 'Q30', 'Q84', 'Q106', 'Q14', 'Q16', 'Q19', 'Q20', 'Q21', 'Q22', 'Q23', 'Q24', 'Q25', 'Q88', 'Q103', 'Q105']\n",
            "['Q26', 'Q27', 'Q28', 'Q29', 'Q30', 'Q84', 'Q106', 'Q76', 'Q77', 'Q78', 'Q85']\n"
          ]
        }
      ],
      "source": [
        "print(home_context.columns.tolist())\n",
        "print(social_context.columns.tolist())\n",
        "print(health_context.columns.tolist())\n"
      ]
    }
  ],
  "metadata": {
    "colab": {
      "provenance": []
    },
    "kernelspec": {
      "display_name": ".venv",
      "language": "python",
      "name": "python3"
    },
    "language_info": {
      "codemirror_mode": {
        "name": "ipython",
        "version": 3
      },
      "file_extension": ".py",
      "mimetype": "text/x-python",
      "name": "python",
      "nbconvert_exporter": "python",
      "pygments_lexer": "ipython3",
      "version": "3.11.12"
    }
  },
  "nbformat": 4,
  "nbformat_minor": 0
}
