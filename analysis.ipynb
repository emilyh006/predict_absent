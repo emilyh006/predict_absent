{
  "cells": [
    {
      "cell_type": "code",
      "execution_count": 1,
      "metadata": {
        "id": "X6u5217kBoY-"
      },
      "outputs": [],
      "source": [
        "import pandas as pd\n",
        "import matplotlib.pyplot as plt\n",
        "import numpy as np\n",
        "import seaborn as sns\n",
        "from sklearn.preprocessing import StandardScaler\n",
        "from sklearn.cluster import KMeans\n",
        "from sklearn.metrics import silhouette_score\n",
        "from sklearn.decomposition import PCA"
      ]
    },
    {
      "cell_type": "code",
      "execution_count": 2,
      "metadata": {},
      "outputs": [],
      "source": [
        "dat = pd.read_csv('data/data.csv', low_memory=False)"
      ]
    },
    {
      "cell_type": "markdown",
      "metadata": {},
      "source": [
        "## Subset 31 questions & process data"
      ]
    },
    {
      "cell_type": "code",
      "execution_count": 3,
      "metadata": {},
      "outputs": [],
      "source": [
        "# Define all index ranges and individual indices\n",
        "mental_ix  = list(range(25, 30)) + [83, 105]\n",
        "home_ix    = list(range(88, 91)) + list(range(98, 102)) + [103]\n",
        "social_ix  = [13, 15, 18] + list(range(19, 25)) + [87, 102, 104]\n",
        "health_ix  = list(range(75, 78)) + [84]\n",
        "\n",
        "# Combine and sort unique indices\n",
        "all_indices = sorted(set(mental_ix + home_ix + social_ix + health_ix))\n",
        "\n",
        "# Subset columns by index\n",
        "dat1 = dat.iloc[:, all_indices].copy()"
      ]
    },
    {
      "cell_type": "code",
      "execution_count": 4,
      "metadata": {},
      "outputs": [
        {
          "data": {
            "text/plain": [
              "np.int64(10900)"
            ]
          },
          "execution_count": 4,
          "metadata": {},
          "output_type": "execute_result"
        }
      ],
      "source": [
        "num_rows_with_na = dat1.isna().any(axis=1).sum()\n",
        "num_rows_with_na"
      ]
    },
    {
      "cell_type": "code",
      "execution_count": 5,
      "metadata": {},
      "outputs": [
        {
          "data": {
            "text/plain": [
              "(9203, 31)"
            ]
          },
          "execution_count": 5,
          "metadata": {},
          "output_type": "execute_result"
        }
      ],
      "source": [
        "dat_cleaned = dat1.dropna(axis=0, how='any')\n",
        "dat_cleaned.shape"
      ]
    },
    {
      "cell_type": "code",
      "execution_count": 6,
      "metadata": {},
      "outputs": [
        {
          "name": "stdout",
          "output_type": "stream",
          "text": [
            "<class 'pandas.core.frame.DataFrame'>\n",
            "Index: 9203 entries, 1 to 11426\n",
            "Data columns (total 31 columns):\n",
            " #   Column  Non-Null Count  Dtype  \n",
            "---  ------  --------------  -----  \n",
            " 0   Q14     9203 non-null   float64\n",
            " 1   Q16     9203 non-null   float64\n",
            " 2   Q19     9203 non-null   float64\n",
            " 3   Q20     9203 non-null   float64\n",
            " 4   Q21     9203 non-null   float64\n",
            " 5   Q22     9203 non-null   float64\n",
            " 6   Q23     9203 non-null   float64\n",
            " 7   Q24     9203 non-null   float64\n",
            " 8   Q25     9203 non-null   float64\n",
            " 9   Q26     9203 non-null   float64\n",
            " 10  Q27     9203 non-null   float64\n",
            " 11  Q28     9203 non-null   float64\n",
            " 12  Q29     9203 non-null   float64\n",
            " 13  Q30     9203 non-null   float64\n",
            " 14  Q76     9203 non-null   float64\n",
            " 15  Q77     9203 non-null   float64\n",
            " 16  Q78     9203 non-null   float64\n",
            " 17  Q84     9203 non-null   float64\n",
            " 18  Q85     9203 non-null   float64\n",
            " 19  Q88     9203 non-null   float64\n",
            " 20  Q89     9203 non-null   float64\n",
            " 21  Q90     9203 non-null   float64\n",
            " 22  Q91     9203 non-null   float64\n",
            " 23  Q99     9203 non-null   float64\n",
            " 24  Q100    9203 non-null   float64\n",
            " 25  Q101    9203 non-null   float64\n",
            " 26  Q102    9203 non-null   float64\n",
            " 27  Q103    9203 non-null   float64\n",
            " 28  Q104    9203 non-null   float64\n",
            " 29  Q105    9203 non-null   float64\n",
            " 30  Q106    9203 non-null   float64\n",
            "dtypes: float64(31)\n",
            "memory usage: 2.2 MB\n"
          ]
        }
      ],
      "source": [
        "dat_cleaned.info()"
      ]
    },
    {
      "cell_type": "code",
      "execution_count": 7,
      "metadata": {},
      "outputs": [],
      "source": [
        "dat_cleaned = dat_cleaned.astype(int)"
      ]
    },
    {
      "cell_type": "markdown",
      "metadata": {},
      "source": [
        "### Recode necessary columns"
      ]
    },
    {
      "cell_type": "code",
      "execution_count": 8,
      "metadata": {},
      "outputs": [],
      "source": [
        "def binary_recode(df, cols):\n",
        "    df = df.copy()\n",
        "    for col in cols:\n",
        "        df[col] = df[col].apply(lambda x: 1 if x == 1 else 0)\n",
        "    return df"
      ]
    },
    {
      "cell_type": "code",
      "execution_count": 9,
      "metadata": {},
      "outputs": [],
      "source": [
        "def reverse_recode(df, cols):\n",
        "    df = df.copy()\n",
        "    for col in cols:\n",
        "        min_val = df[col].min()\n",
        "        max_val = df[col].max()\n",
        "        df[col] = (max_val + min_val) - df[col]\n",
        "    return df"
      ]
    },
    {
      "cell_type": "code",
      "execution_count": 10,
      "metadata": {},
      "outputs": [],
      "source": [
        "# Binary: 1.0 = Yes → 1, 2.0 = No → 0\n",
        "binary_cols = ['Q26', 'Q27', 'Q28', 'Q106', 'Q100', 'Q101', 'Q102', 'Q19', 'Q24', 'Q25', 'Q88', 'Q105']\n",
        "\n",
        "# Ordinal: need to reverse\n",
        "ordinal_cols = [                 \n",
        "    'Q99', 'Q104',                \n",
        "    'Q76', 'Q77', 'Q78',    \n",
        "]"
      ]
    },
    {
      "cell_type": "code",
      "execution_count": 11,
      "metadata": {},
      "outputs": [],
      "source": [
        "dat_final1 = binary_recode(dat_cleaned, binary_cols)\n",
        "dat_final = reverse_recode(dat_final1, ordinal_cols)"
      ]
    },
    {
      "cell_type": "code",
      "execution_count": 12,
      "metadata": {},
      "outputs": [],
      "source": [
        "dat_final['Q30'] = dat_final['Q30'].astype(int).map({1: 0, 3: 1, 2: 2})\n",
        "dat_final['Q85'] = dat_cleaned['Q85'].astype(int).map({\n",
        "    1: 3,\n",
        "    2: 2,\n",
        "    3: 1,\n",
        "    4: 0,\n",
        "    5: 0,\n",
        "    6: 0,\n",
        "    7: 1\n",
        "})"
      ]
    },
    {
      "cell_type": "markdown",
      "metadata": {},
      "source": [
        "#### Checking to make sure the recode is applied correctly"
      ]
    },
    {
      "cell_type": "code",
      "execution_count": 13,
      "metadata": {},
      "outputs": [
        {
          "name": "stdout",
          "output_type": "stream",
          "text": [
            "Q27\n",
            "2    7143\n",
            "1    2060\n",
            "Name: count, dtype: int64\n",
            "Q27\n",
            "0    7143\n",
            "1    2060\n",
            "Name: count, dtype: int64\n"
          ]
        }
      ],
      "source": [
        "# Binary recode\n",
        "\n",
        "print(dat_cleaned['Q27'].value_counts())\n",
        "print(dat_final['Q27'].value_counts())"
      ]
    },
    {
      "cell_type": "code",
      "execution_count": 14,
      "metadata": {},
      "outputs": [
        {
          "name": "stdout",
          "output_type": "stream",
          "text": [
            "Q104\n",
            "5    4520\n",
            "4    3299\n",
            "3     792\n",
            "2     362\n",
            "1     230\n",
            "Name: count, dtype: int64\n",
            "Q104\n",
            "1    4520\n",
            "2    3299\n",
            "3     792\n",
            "4     362\n",
            "5     230\n",
            "Name: count, dtype: int64\n"
          ]
        }
      ],
      "source": [
        "# Ordinal reverse recode\n",
        "\n",
        "print(dat_cleaned['Q104'].value_counts())\n",
        "print(dat_final['Q104'].value_counts())"
      ]
    },
    {
      "cell_type": "code",
      "execution_count": 15,
      "metadata": {},
      "outputs": [
        {
          "name": "stdout",
          "output_type": "stream",
          "text": [
            "Q30\n",
            "1    8290\n",
            "3     717\n",
            "2     196\n",
            "Name: count, dtype: int64\n",
            "Q30\n",
            "0    8290\n",
            "1     717\n",
            "2     196\n",
            "Name: count, dtype: int64\n"
          ]
        }
      ],
      "source": [
        "# Special case 1 \n",
        "\n",
        "print(dat_cleaned['Q30'].value_counts())\n",
        "print(dat_final['Q30'].value_counts())"
      ]
    },
    {
      "cell_type": "code",
      "execution_count": 16,
      "metadata": {},
      "outputs": [
        {
          "name": "stdout",
          "output_type": "stream",
          "text": [
            "Q85\n",
            "4    2550\n",
            "3    2347\n",
            "5    1533\n",
            "2    1383\n",
            "1     876\n",
            "6     381\n",
            "7     133\n",
            "Name: count, dtype: int64\n",
            "Q85\n",
            "0    4464\n",
            "1    2480\n",
            "2    1383\n",
            "3     876\n",
            "Name: count, dtype: int64\n"
          ]
        }
      ],
      "source": [
        "# Special case 2 (U recode)\n",
        "\n",
        "print(dat_cleaned['Q85'].value_counts())\n",
        "print(dat_final['Q85'].value_counts())"
      ]
    },
    {
      "cell_type": "markdown",
      "metadata": {},
      "source": [
        "## Subset the data per domain"
      ]
    },
    {
      "cell_type": "code",
      "execution_count": 17,
      "metadata": {},
      "outputs": [],
      "source": [
        "# Create mapping of all_indices to relative positions\n",
        "index_map = {orig_idx: i for i, orig_idx in enumerate(all_indices)}\n",
        "\n",
        "# Remap each index list to match final data's column layout\n",
        "mental_ix_local = [index_map[i] for i in mental_ix]\n",
        "home_ix_local   = [index_map[i] for i in home_ix]\n",
        "social_ix_local = [index_map[i] for i in social_ix]\n",
        "health_ix_local = [index_map[i] for i in health_ix]\n",
        "\n",
        "# Create combined index lists\n",
        "home_context_ix   = mental_ix_local + home_ix_local\n",
        "social_context_ix = mental_ix_local + social_ix_local\n",
        "health_context_ix = mental_ix_local + health_ix_local"
      ]
    },
    {
      "cell_type": "code",
      "execution_count": 18,
      "metadata": {},
      "outputs": [],
      "source": [
        "home_context = dat_final.iloc[:, home_context_ix].copy()\n",
        "social_context = dat_final.iloc[:, social_context_ix].copy()\n",
        "health_context = dat_final.iloc[:, health_context_ix].copy()"
      ]
    },
    {
      "cell_type": "code",
      "execution_count": 19,
      "metadata": {},
      "outputs": [
        {
          "name": "stdout",
          "output_type": "stream",
          "text": [
            "['Q26', 'Q27', 'Q28', 'Q29', 'Q30', 'Q84', 'Q106', 'Q89', 'Q90', 'Q91', 'Q99', 'Q100', 'Q101', 'Q102', 'Q104']\n",
            "['Q26', 'Q27', 'Q28', 'Q29', 'Q30', 'Q84', 'Q106', 'Q14', 'Q16', 'Q19', 'Q20', 'Q21', 'Q22', 'Q23', 'Q24', 'Q25', 'Q88', 'Q103', 'Q105']\n",
            "['Q26', 'Q27', 'Q28', 'Q29', 'Q30', 'Q84', 'Q106', 'Q76', 'Q77', 'Q78', 'Q85']\n"
          ]
        }
      ],
      "source": [
        "print(home_context.columns.tolist())\n",
        "print(social_context.columns.tolist())\n",
        "print(health_context.columns.tolist())\n"
      ]
    },
    {
      "cell_type": "markdown",
      "metadata": {},
      "source": [
        "## Domain Specific Clustering\n"
      ]
    },
    {
      "cell_type": "code",
      "execution_count": 20,
      "metadata": {},
      "outputs": [],
      "source": [
        "# Function to find the optimal number of clusters using the silhouette method\n",
        "\n",
        "\n",
        "def find_optimal_k(X, max_k=6):\n",
        "    sil_scores = []\n",
        "    for k in range(2, max_k + 1):\n",
        "        kmeans = KMeans(n_clusters=k, random_state=42).fit(X)\n",
        "        score = silhouette_score(X, kmeans.labels_)\n",
        "        sil_scores.append(score)\n",
        "    plt.plot(range(2, max_k + 1), sil_scores, marker='o')\n",
        "    plt.title('Silhouette Score by k')\n",
        "    plt.xlabel('k')\n",
        "    plt.ylabel('Silhouette Score')\n",
        "    plt.show()\n",
        "    \n",
        "    return sil_scores.index(max(sil_scores)) + 2 "
      ]
    },
    {
      "cell_type": "markdown",
      "metadata": {},
      "source": [
        "### Standardize the data\n"
      ]
    },
    {
      "cell_type": "code",
      "execution_count": 21,
      "metadata": {},
      "outputs": [],
      "source": [
        "scaler = StandardScaler()\n",
        "\n",
        "X_home = scaler.fit_transform(home_context)\n",
        "X_social = scaler.fit_transform(social_context)\n",
        "X_health = scaler.fit_transform(health_context)\n"
      ]
    },
    {
      "cell_type": "markdown",
      "metadata": {},
      "source": [
        "\n",
        "### Home Environment "
      ]
    },
    {
      "cell_type": "code",
      "execution_count": 22,
      "metadata": {},
      "outputs": [
        {
          "data": {
            "image/png": "[encoded data removed]",
            "text/plain": [
              "<Figure size 640x480 with 1 Axes>"
            ]
          },
          "metadata": {},
          "output_type": "display_data"
        },
        {
          "data": {
            "text/plain": [
              "2"
            ]
          },
          "execution_count": 22,
          "metadata": {},
          "output_type": "execute_result"
        }
      ],
      "source": [
        "# find optimal k for home context\n",
        "find_optimal_k(X_home)"
      ]
    },
    {
      "cell_type": "code",
      "execution_count": 23,
      "metadata": {},
      "outputs": [],
      "source": [
        "kmeans_home = KMeans(n_clusters=2, random_state=123)\n",
        "home_labels = kmeans_home.fit_predict(X_home)\n",
        "\n",
        "# append the cluster labels to the 31Q dataset \n",
        "dat_final['HomeCluster'] = home_labels"
      ]
    },
    {
      "cell_type": "markdown",
      "metadata": {},
      "source": [
        "\n",
        "### Social Environment "
      ]
    },
    {
      "cell_type": "code",
      "execution_count": 24,
      "metadata": {},
      "outputs": [
        {
          "data": {
            "image/png": "[encoded data removed]",
            "text/plain": [
              "<Figure size 640x480 with 1 Axes>"
            ]
          },
          "metadata": {},
          "output_type": "display_data"
        },
        {
          "data": {
            "text/plain": [
              "2"
            ]
          },
          "execution_count": 24,
          "metadata": {},
          "output_type": "execute_result"
        }
      ],
      "source": [
        "# find optimal k for home context\n",
        "find_optimal_k(X_social)"
      ]
    },
    {
      "cell_type": "code",
      "execution_count": 25,
      "metadata": {},
      "outputs": [],
      "source": [
        "kmeans_social = KMeans(n_clusters=2, random_state=123)\n",
        "social_labels = kmeans_social.fit_predict(X_social)\n",
        "\n",
        "# append the cluster labels to the 31Q dataset \n",
        "dat_final['SocialCluster'] = social_labels"
      ]
    },
    {
      "cell_type": "markdown",
      "metadata": {},
      "source": [
        "### Phyiscal Health "
      ]
    },
    {
      "cell_type": "code",
      "execution_count": 26,
      "metadata": {},
      "outputs": [
        {
          "data": {
            "image/png": "[encoded data removed]",
            "text/plain": [
              "<Figure size 640x480 with 1 Axes>"
            ]
          },
          "metadata": {},
          "output_type": "display_data"
        },
        {
          "data": {
            "text/plain": [
              "2"
            ]
          },
          "execution_count": 26,
          "metadata": {},
          "output_type": "execute_result"
        }
      ],
      "source": [
        "# find optimal k for home context\n",
        "find_optimal_k(X_health)"
      ]
    },
    {
      "cell_type": "code",
      "execution_count": 27,
      "metadata": {},
      "outputs": [],
      "source": [
        "kmeans_health= KMeans(n_clusters=2, random_state=123)\n",
        "health_labels = kmeans_health.fit_predict(X_health)\n",
        "\n",
        "# append the cluster labels to the 31Q dataset \n",
        "dat_final['HealthCluster'] = health_labels"
      ]
    },
    {
      "cell_type": "markdown",
      "metadata": {},
      "source": [
        "### Analyze and Compare the Clusters\n"
      ]
    },
    {
      "cell_type": "code",
      "execution_count": 28,
      "metadata": {},
      "outputs": [
        {
          "data": {
            "text/html": [
              "<div>\n",
              "<style scoped>\n",
              "    .dataframe tbody tr th:only-of-type {\n",
              "        vertical-align: middle;\n",
              "    }\n",
              "\n",
              "    .dataframe tbody tr th {\n",
              "        vertical-align: top;\n",
              "    }\n",
              "\n",
              "    .dataframe thead th {\n",
              "        text-align: right;\n",
              "    }\n",
              "</style>\n",
              "<table border=\"1\" class=\"dataframe\">\n",
              "  <thead>\n",
              "    <tr style=\"text-align: right;\">\n",
              "      <th>SocialCluster</th>\n",
              "      <th>0</th>\n",
              "      <th>1</th>\n",
              "    </tr>\n",
              "    <tr>\n",
              "      <th>HomeCluster</th>\n",
              "      <th></th>\n",
              "      <th></th>\n",
              "    </tr>\n",
              "  </thead>\n",
              "  <tbody>\n",
              "    <tr>\n",
              "      <th>0</th>\n",
              "      <td>838</td>\n",
              "      <td>1782</td>\n",
              "    </tr>\n",
              "    <tr>\n",
              "      <th>1</th>\n",
              "      <td>6384</td>\n",
              "      <td>199</td>\n",
              "    </tr>\n",
              "  </tbody>\n",
              "</table>\n",
              "</div>"
            ],
            "text/plain": [
              "SocialCluster     0     1\n",
              "HomeCluster              \n",
              "0               838  1782\n",
              "1              6384   199"
            ]
          },
          "execution_count": 28,
          "metadata": {},
          "output_type": "execute_result"
        }
      ],
      "source": [
        "pd.crosstab(dat_final['HomeCluster'], dat_final['SocialCluster'])"
      ]
    },
    {
      "cell_type": "code",
      "execution_count": 29,
      "metadata": {},
      "outputs": [
        {
          "data": {
            "text/html": [
              "<div>\n",
              "<style scoped>\n",
              "    .dataframe tbody tr th:only-of-type {\n",
              "        vertical-align: middle;\n",
              "    }\n",
              "\n",
              "    .dataframe tbody tr th {\n",
              "        vertical-align: top;\n",
              "    }\n",
              "\n",
              "    .dataframe thead th {\n",
              "        text-align: right;\n",
              "    }\n",
              "</style>\n",
              "<table border=\"1\" class=\"dataframe\">\n",
              "  <thead>\n",
              "    <tr style=\"text-align: right;\">\n",
              "      <th>HealthCluster</th>\n",
              "      <th>0</th>\n",
              "      <th>1</th>\n",
              "    </tr>\n",
              "    <tr>\n",
              "      <th>HomeCluster</th>\n",
              "      <th></th>\n",
              "      <th></th>\n",
              "    </tr>\n",
              "  </thead>\n",
              "  <tbody>\n",
              "    <tr>\n",
              "      <th>0</th>\n",
              "      <td>1868</td>\n",
              "      <td>752</td>\n",
              "    </tr>\n",
              "    <tr>\n",
              "      <th>1</th>\n",
              "      <td>164</td>\n",
              "      <td>6419</td>\n",
              "    </tr>\n",
              "  </tbody>\n",
              "</table>\n",
              "</div>"
            ],
            "text/plain": [
              "HealthCluster     0     1\n",
              "HomeCluster              \n",
              "0              1868   752\n",
              "1               164  6419"
            ]
          },
          "execution_count": 29,
          "metadata": {},
          "output_type": "execute_result"
        }
      ],
      "source": [
        "pd.crosstab(dat_final['HomeCluster'], dat_final['HealthCluster'])"
      ]
    },
    {
      "cell_type": "code",
      "execution_count": 30,
      "metadata": {},
      "outputs": [
        {
          "data": {
            "text/html": [
              "<div>\n",
              "<style scoped>\n",
              "    .dataframe tbody tr th:only-of-type {\n",
              "        vertical-align: middle;\n",
              "    }\n",
              "\n",
              "    .dataframe tbody tr th {\n",
              "        vertical-align: top;\n",
              "    }\n",
              "\n",
              "    .dataframe thead th {\n",
              "        text-align: right;\n",
              "    }\n",
              "</style>\n",
              "<table border=\"1\" class=\"dataframe\">\n",
              "  <thead>\n",
              "    <tr style=\"text-align: right;\">\n",
              "      <th>HealthCluster</th>\n",
              "      <th>0</th>\n",
              "      <th>1</th>\n",
              "    </tr>\n",
              "    <tr>\n",
              "      <th>SocialCluster</th>\n",
              "      <th></th>\n",
              "      <th></th>\n",
              "    </tr>\n",
              "  </thead>\n",
              "  <tbody>\n",
              "    <tr>\n",
              "      <th>0</th>\n",
              "      <td>353</td>\n",
              "      <td>6869</td>\n",
              "    </tr>\n",
              "    <tr>\n",
              "      <th>1</th>\n",
              "      <td>1679</td>\n",
              "      <td>302</td>\n",
              "    </tr>\n",
              "  </tbody>\n",
              "</table>\n",
              "</div>"
            ],
            "text/plain": [
              "HealthCluster     0     1\n",
              "SocialCluster            \n",
              "0               353  6869\n",
              "1              1679   302"
            ]
          },
          "execution_count": 30,
          "metadata": {},
          "output_type": "execute_result"
        }
      ],
      "source": [
        "pd.crosstab(dat_final['SocialCluster'], dat_final['HealthCluster'])"
      ]
    },
    {
      "cell_type": "markdown",
      "metadata": {},
      "source": [
        "# Working with Full Dataset"
      ]
    },
    {
      "cell_type": "markdown",
      "metadata": {},
      "source": [
        "#### Data Exploration"
      ]
    },
    {
      "cell_type": "code",
      "execution_count": 31,
      "metadata": {},
      "outputs": [
        {
          "name": "stdout",
          "output_type": "stream",
          "text": [
            "QN34        19580\n",
            "QN37        17457\n",
            "QN45        17077\n",
            "QNDUALBC    16659\n",
            "QNBCNONE    16614\n",
            "QNOTHHPL    16614\n",
            "QNIUDIMP    16614\n",
            "QN62        16614\n",
            "QN60        16526\n",
            "QN61        16194\n",
            "dtype: int64\n",
            "QN34        97.398398\n",
            "QN37        86.837785\n",
            "QN45        84.947520\n",
            "QNDUALBC    82.868229\n",
            "QNBCNONE    82.644381\n",
            "QNOTHHPL    82.644381\n",
            "QNIUDIMP    82.644381\n",
            "QN62        82.644381\n",
            "QN60        82.206636\n",
            "QN61        80.555141\n",
            "dtype: float64\n"
          ]
        }
      ],
      "source": [
        "# Count missing values per column\n",
        "missing_summary = dat.isnull().sum().sort_values(ascending=False)\n",
        "\n",
        "# Percentage missing per column\n",
        "missing_pct = (dat.isnull().mean() * 100).sort_values(ascending=False)\n",
        "\n",
        "# Preview top 10 most missing\n",
        "print(missing_summary.head(10))\n",
        "print(missing_pct.head(10))"
      ]
    },
    {
      "cell_type": "code",
      "execution_count": 32,
      "metadata": {},
      "outputs": [
        {
          "data": {
            "image/png": "[encoded data removed]",
            "text/plain": [
              "<Figure size 1200x600 with 1 Axes>"
            ]
          },
          "metadata": {},
          "output_type": "display_data"
        }
      ],
      "source": [
        "import seaborn as sns\n",
        "import matplotlib.pyplot as plt\n",
        "\n",
        "plt.figure(figsize=(12, 6))\n",
        "sns.heatmap(dat.isnull(), cbar=False, yticklabels=False)\n",
        "plt.title(\"Missing Data Heatmap\")\n",
        "plt.show()"
      ]
    },
    {
      "cell_type": "code",
      "execution_count": 33,
      "metadata": {},
      "outputs": [
        {
          "name": "stdout",
          "output_type": "stream",
          "text": [
            "14 columns have more than 50% missing:\n",
            "\n",
            "QN34        97.398398\n",
            "QN37        86.837785\n",
            "QN45        84.947520\n",
            "QNDUALBC    82.868229\n",
            "QN62        82.644381\n",
            "QNIUDIMP    82.644381\n",
            "QNOTHHPL    82.644381\n",
            "QNBCNONE    82.644381\n",
            "QN60        82.206636\n",
            "QN61        80.555141\n",
            "QN40        78.426106\n",
            "QN94        72.680694\n",
            "QN11        59.861712\n",
            "QN10        57.339701\n",
            "dtype: float64\n"
          ]
        }
      ],
      "source": [
        "# Calculate percentage missing per column\n",
        "missing_pct = dat.isnull().mean() * 100\n",
        "\n",
        "# Filter columns with >50% missing\n",
        "high_missing = missing_pct[missing_pct > 50].sort_values(ascending=False)\n",
        "\n",
        "# Display them\n",
        "print(f\"{len(high_missing)} columns have more than 50% missing:\\n\")\n",
        "print(high_missing)"
      ]
    },
    {
      "cell_type": "code",
      "execution_count": 34,
      "metadata": {},
      "outputs": [
        {
          "name": "stdout",
          "output_type": "stream",
          "text": [
            "43 columns have more than 50% missing:\n",
            "\n",
            "QN34        97.398398\n",
            "QN37        86.837785\n",
            "QN45        84.947520\n",
            "QNDUALBC    82.868229\n",
            "QNBCNONE    82.644381\n",
            "QNOTHHPL    82.644381\n",
            "QNIUDIMP    82.644381\n",
            "QN62        82.644381\n",
            "QN60        82.206636\n",
            "QN61        80.555141\n",
            "QN40        78.426106\n",
            "QN94        72.680694\n",
            "QN11        59.861712\n",
            "QN10        57.339701\n",
            "Q105        47.356116\n",
            "QN105       47.356116\n",
            "QN98        46.336368\n",
            "Q98         46.336368\n",
            "Q107        46.301547\n",
            "QN107       46.301547\n",
            "Q104        46.027956\n",
            "QN104       46.027956\n",
            "QNILLICT    45.654877\n",
            "Q106        45.550415\n",
            "QN106       45.550415\n",
            "Q93         44.431179\n",
            "QN93        44.431179\n",
            "Q103        44.401333\n",
            "QN103       44.401333\n",
            "Q97         44.301845\n",
            "QN97        44.301845\n",
            "Q94         43.625330\n",
            "Q13         43.421380\n",
            "QN13        43.421380\n",
            "QN22        42.759787\n",
            "QN16        42.038502\n",
            "Q16         42.038502\n",
            "QN66        41.327165\n",
            "Q66         41.327165\n",
            "QN95        40.760086\n",
            "Q95         40.760086\n",
            "QNSPDRK1    40.760086\n",
            "QNSPDRK2    40.760086\n",
            "dtype: float64\n"
          ]
        }
      ],
      "source": [
        "# Calculate percentage missing per column\n",
        "missing_pct = dat.isnull().mean() * 100\n",
        "\n",
        "# Filter columns with >40% missing\n",
        "high_missing = missing_pct[missing_pct > 40].sort_values(ascending=False)\n",
        "\n",
        "# Display them\n",
        "print(f\"{len(high_missing)} columns have more than 50% missing:\\n\")\n",
        "print(high_missing)"
      ]
    },
    {
      "cell_type": "markdown",
      "metadata": {},
      "source": [
        "#### Missingness and Dropping QN# and QNword columns"
      ]
    },
    {
      "cell_type": "code",
      "execution_count": 35,
      "metadata": {},
      "outputs": [
        {
          "name": "stdout",
          "output_type": "stream",
          "text": [
            "Final shape of dat2_cleaned: (6911, 115)\n"
          ]
        }
      ],
      "source": [
        "# Step 1: Drop all QN# and QNword columns\n",
        "qn_cols = [col for col in dat.columns if col.startswith('QN')]\n",
        "dat2_step1 = dat.drop(columns=qn_cols)\n",
        "\n",
        "# Step 2: Drop rows with any remaining missing values\n",
        "dat2_cleaned = dat2_step1.dropna().copy()\n",
        "\n",
        "print(f\"Final shape of dat2_cleaned: {dat2_cleaned.shape}\")"
      ]
    },
    {
      "cell_type": "markdown",
      "metadata": {},
      "source": [
        "#### Recoding"
      ]
    },
    {
      "cell_type": "markdown",
      "metadata": {},
      "source": [
        "•\tDirectional Binary\\\n",
        "•\tDirectional Reverse-Score (Ordinal)\\\n",
        "•\tNeutral Numeric\\\n",
        "•\tOne-Hot\\\n",
        "•\tSpecial Cases\n",
        "\n",
        "14, 16, 19, 20, 21, 22, 23, 24, 25, 26, 27, 28, 29, 30, 76, 77, 78, 84, 85, 88, 89, 90, 91, 99, 100, 101, 102, 103, 104, 105, 106"
      ]
    },
    {
      "cell_type": "code",
      "execution_count": null,
      "metadata": {},
      "outputs": [],
      "source": [
        "# Set working dataframe:\n",
        "dat2_final = dat2_cleaned.copy()\n",
        "\n",
        "# set as int\n"
      ]
    },
    {
      "cell_type": "code",
      "execution_count": 42,
      "metadata": {},
      "outputs": [
        {
          "name": "stdout",
          "output_type": "stream",
          "text": [
            "<class 'pandas.core.frame.DataFrame'>\n",
            "Index: 6911 entries, 1 to 11426\n",
            "Columns: 115 entries, Q1 to Q7ORIG\n",
            "dtypes: float64(88), int64(19), object(8)\n",
            "memory usage: 6.1+ MB\n"
          ]
        }
      ],
      "source": [
        "dat2_final.info()"
      ]
    },
    {
      "cell_type": "code",
      "execution_count": null,
      "metadata": {},
      "outputs": [],
      "source": [
        "# Binary\n",
        "## Directional and Neutral Binary\n",
        "\n",
        "binary_cols_dat2 = [\n",
        "    'Q18', 'Q19', 'Q24', 'Q25', 'Q26', 'Q27', 'Q28', 'Q31',\n",
        "    'Q35', 'Q88', 'Q100', 'Q101', 'Q102', 'Q105', 'Q106'\n",
        "]\n",
        "\n",
        "dat2_final = binary_recode(dat2_final, binary_cols_dat2)"
      ]
    },
    {
      "cell_type": "code",
      "execution_count": 38,
      "metadata": {},
      "outputs": [],
      "source": [
        "# Directional - Ordinal\n",
        "## Reverse-Score\n",
        "\n",
        "ordinal_cols_dat2 = [\n",
        "    'Q8', 'Q76', 'Q77', 'Q78', 'Q96', 'Q97', 'Q99', 'Q104'\n",
        "]\n",
        "\n",
        "dat2_final = reverse_recode(dat2_final, ordinal_cols_dat2)"
      ]
    },
    {
      "cell_type": "code",
      "execution_count": 40,
      "metadata": {},
      "outputs": [],
      "source": [
        "# Neutral Numeric\n",
        "\n",
        "def numeric_recode(df, neutral_cols):\n",
        "    df = df.copy()\n",
        "    for col in numeric_cols_dat2:\n",
        "        if col in df.columns:\n",
        "            df[col] = pd.to_numeric(df[col], errors='coerce').astype(int)\n",
        "    return df\n",
        "\n",
        "numeric_cols_dat2 = ['Q1', 'Q3']\n",
        "\n",
        "dat2_final = numeric_recode(dat2_final, numeric_cols_dat2)"
      ]
    },
    {
      "cell_type": "code",
      "execution_count": null,
      "metadata": {},
      "outputs": [],
      "source": []
    }
  ],
  "metadata": {
    "colab": {
      "provenance": []
    },
    "kernelspec": {
      "display_name": "Python 3",
      "language": "python",
      "name": "python3"
    },
    "language_info": {
      "codemirror_mode": {
        "name": "ipython",
        "version": 3
      },
      "file_extension": ".py",
      "mimetype": "text/x-python",
      "name": "python",
      "nbconvert_exporter": "python",
      "pygments_lexer": "ipython3",
      "version": "3.13.0"
    }
  },
  "nbformat": 4,
  "nbformat_minor": 0
}
