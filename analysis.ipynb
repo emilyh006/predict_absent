{
  "cells": [
    {
      "cell_type": "code",
      "execution_count": 47,
      "metadata": {
        "id": "X6u5217kBoY-"
      },
      "outputs": [
        {
          "ename": "ModuleNotFoundError",
          "evalue": "No module named 'sklearn'",
          "output_type": "error",
          "traceback": [
            "\u001b[0;31m---------------------------------------------------------------------------\u001b[0m",
            "\u001b[0;31mModuleNotFoundError\u001b[0m                       Traceback (most recent call last)",
            "Cell \u001b[0;32mIn[47], line 5\u001b[0m\n\u001b[1;32m      3\u001b[0m \u001b[38;5;28;01mimport\u001b[39;00m\u001b[38;5;250m \u001b[39m\u001b[38;5;21;01mnumpy\u001b[39;00m\u001b[38;5;250m \u001b[39m\u001b[38;5;28;01mas\u001b[39;00m\u001b[38;5;250m \u001b[39m\u001b[38;5;21;01mnp\u001b[39;00m\n\u001b[1;32m      4\u001b[0m \u001b[38;5;28;01mimport\u001b[39;00m\u001b[38;5;250m \u001b[39m\u001b[38;5;21;01mseaborn\u001b[39;00m\u001b[38;5;250m \u001b[39m\u001b[38;5;28;01mas\u001b[39;00m\u001b[38;5;250m \u001b[39m\u001b[38;5;21;01msns\u001b[39;00m\n\u001b[0;32m----> 5\u001b[0m \u001b[38;5;28;01mfrom\u001b[39;00m\u001b[38;5;250m \u001b[39m\u001b[38;5;21;01msklearn\u001b[39;00m\u001b[38;5;21;01m.\u001b[39;00m\u001b[38;5;21;01mmodel_selection\u001b[39;00m\u001b[38;5;250m \u001b[39m\u001b[38;5;28;01mimport\u001b[39;00m train_test_split\n",
            "\u001b[0;31mModuleNotFoundError\u001b[0m: No module named 'sklearn'"
          ]
        }
      ],
      "source": [
        "import pandas as pd\n",
        "import matplotlib.pyplot as plt\n",
        "import numpy as np\n",
        "import seaborn as sns\n",
        "from sklearn.model_selection import train_test_split\n",
        "\n"
      ]
    },
    {
      "cell_type": "code",
      "execution_count": 48,
      "metadata": {},
      "outputs": [],
      "source": [
        "dat = pd.read_csv('data/Absenteeism_at_work.csv', sep=';')"
      ]
    },
    {
      "cell_type": "code",
      "execution_count": 49,
      "metadata": {},
      "outputs": [
        {
          "data": {
            "text/plain": [
              "Index(['id', 'reason for absence', 'month of absence', 'day of the week',\n",
              "       'seasons', 'transportation expense', 'distance from residence to work',\n",
              "       'service time', 'age', 'work load average/day ', 'hit target',\n",
              "       'disciplinary failure', 'education', 'son', 'social drinker',\n",
              "       'social smoker', 'pet', 'weight', 'height', 'body mass index',\n",
              "       'absenteeism time in hours'],\n",
              "      dtype='object')"
            ]
          },
          "execution_count": 49,
          "metadata": {},
          "output_type": "execute_result"
        }
      ],
      "source": [
        "dat.columns = dat.columns.str.lower()\n",
        "dat.columns"
      ]
    },
    {
      "cell_type": "code",
      "execution_count": 50,
      "metadata": {},
      "outputs": [],
      "source": [
        "dat.rename(columns={\n",
        "    'reason for absence': 'reason',\n",
        "    'month of absence': 'month',\n",
        "    'day of the week': 'day',\n",
        "    'transportation expense' : 'transport_expense',\n",
        "    'distance from residence to work': 'distance',\n",
        "    'service time': 'service_time',\n",
        "    'work load average/day ': 'daily_avg_work_load',\n",
        "    'hit target': 'hit_target',\n",
        "    'disciplinary failure': 'disciplinary_failure',\n",
        "    'son': 'num_children',\n",
        "    'social drinker': 'social_drinker',\n",
        "    'social smoker': 'social_smoker',\n",
        "    'body mass index': 'bmi',\n",
        "    'absenteeism time in hours': 'absent_hours'\n",
        "}, inplace=True)"
      ]
    },
    {
      "cell_type": "code",
      "execution_count": 51,
      "metadata": {},
      "outputs": [
        {
          "name": "stdout",
          "output_type": "stream",
          "text": [
            "<class 'pandas.core.frame.DataFrame'>\n",
            "RangeIndex: 740 entries, 0 to 739\n",
            "Data columns (total 21 columns):\n",
            " #   Column                Non-Null Count  Dtype  \n",
            "---  ------                --------------  -----  \n",
            " 0   id                    740 non-null    int64  \n",
            " 1   reason                740 non-null    int64  \n",
            " 2   month                 740 non-null    int64  \n",
            " 3   day                   740 non-null    int64  \n",
            " 4   seasons               740 non-null    int64  \n",
            " 5   transport_expense     740 non-null    int64  \n",
            " 6   distance              740 non-null    int64  \n",
            " 7   service_time          740 non-null    int64  \n",
            " 8   age                   740 non-null    int64  \n",
            " 9   daily_avg_work_load   740 non-null    float64\n",
            " 10  hit_target            740 non-null    int64  \n",
            " 11  disciplinary_failure  740 non-null    int64  \n",
            " 12  education             740 non-null    int64  \n",
            " 13  num_children          740 non-null    int64  \n",
            " 14  social_drinker        740 non-null    int64  \n",
            " 15  social_smoker         740 non-null    int64  \n",
            " 16  pet                   740 non-null    int64  \n",
            " 17  weight                740 non-null    int64  \n",
            " 18  height                740 non-null    int64  \n",
            " 19  bmi                   740 non-null    int64  \n",
            " 20  absent_hours          740 non-null    int64  \n",
            "dtypes: float64(1), int64(20)\n",
            "memory usage: 121.5 KB\n"
          ]
        }
      ],
      "source": [
        "dat.info()"
      ]
    },
    {
      "cell_type": "code",
      "execution_count": 52,
      "metadata": {},
      "outputs": [],
      "source": [
        "dat = dat.drop(columns=[\"id\"])"
      ]
    },
    {
      "cell_type": "code",
      "execution_count": 53,
      "metadata": {},
      "outputs": [
        {
          "data": {
            "text/html": [
              "<div>\n",
              "<style scoped>\n",
              "    .dataframe tbody tr th:only-of-type {\n",
              "        vertical-align: middle;\n",
              "    }\n",
              "\n",
              "    .dataframe tbody tr th {\n",
              "        vertical-align: top;\n",
              "    }\n",
              "\n",
              "    .dataframe thead th {\n",
              "        text-align: right;\n",
              "    }\n",
              "</style>\n",
              "<table border=\"1\" class=\"dataframe\">\n",
              "  <thead>\n",
              "    <tr style=\"text-align: right;\">\n",
              "      <th></th>\n",
              "      <th>reason</th>\n",
              "      <th>month</th>\n",
              "      <th>day</th>\n",
              "      <th>seasons</th>\n",
              "      <th>transport_expense</th>\n",
              "      <th>distance</th>\n",
              "      <th>service_time</th>\n",
              "      <th>age</th>\n",
              "      <th>daily_avg_work_load</th>\n",
              "      <th>hit_target</th>\n",
              "      <th>disciplinary_failure</th>\n",
              "      <th>education</th>\n",
              "      <th>num_children</th>\n",
              "      <th>social_drinker</th>\n",
              "      <th>social_smoker</th>\n",
              "      <th>pet</th>\n",
              "      <th>weight</th>\n",
              "      <th>height</th>\n",
              "      <th>bmi</th>\n",
              "      <th>absent_hours</th>\n",
              "    </tr>\n",
              "  </thead>\n",
              "  <tbody>\n",
              "    <tr>\n",
              "      <th>0</th>\n",
              "      <td>26</td>\n",
              "      <td>7</td>\n",
              "      <td>3</td>\n",
              "      <td>1</td>\n",
              "      <td>289</td>\n",
              "      <td>36</td>\n",
              "      <td>13</td>\n",
              "      <td>33</td>\n",
              "      <td>239.554</td>\n",
              "      <td>97</td>\n",
              "      <td>0</td>\n",
              "      <td>1</td>\n",
              "      <td>2</td>\n",
              "      <td>1</td>\n",
              "      <td>0</td>\n",
              "      <td>1</td>\n",
              "      <td>90</td>\n",
              "      <td>172</td>\n",
              "      <td>30</td>\n",
              "      <td>4</td>\n",
              "    </tr>\n",
              "    <tr>\n",
              "      <th>1</th>\n",
              "      <td>0</td>\n",
              "      <td>7</td>\n",
              "      <td>3</td>\n",
              "      <td>1</td>\n",
              "      <td>118</td>\n",
              "      <td>13</td>\n",
              "      <td>18</td>\n",
              "      <td>50</td>\n",
              "      <td>239.554</td>\n",
              "      <td>97</td>\n",
              "      <td>1</td>\n",
              "      <td>1</td>\n",
              "      <td>1</td>\n",
              "      <td>1</td>\n",
              "      <td>0</td>\n",
              "      <td>0</td>\n",
              "      <td>98</td>\n",
              "      <td>178</td>\n",
              "      <td>31</td>\n",
              "      <td>0</td>\n",
              "    </tr>\n",
              "    <tr>\n",
              "      <th>2</th>\n",
              "      <td>23</td>\n",
              "      <td>7</td>\n",
              "      <td>4</td>\n",
              "      <td>1</td>\n",
              "      <td>179</td>\n",
              "      <td>51</td>\n",
              "      <td>18</td>\n",
              "      <td>38</td>\n",
              "      <td>239.554</td>\n",
              "      <td>97</td>\n",
              "      <td>0</td>\n",
              "      <td>1</td>\n",
              "      <td>0</td>\n",
              "      <td>1</td>\n",
              "      <td>0</td>\n",
              "      <td>0</td>\n",
              "      <td>89</td>\n",
              "      <td>170</td>\n",
              "      <td>31</td>\n",
              "      <td>2</td>\n",
              "    </tr>\n",
              "    <tr>\n",
              "      <th>3</th>\n",
              "      <td>7</td>\n",
              "      <td>7</td>\n",
              "      <td>5</td>\n",
              "      <td>1</td>\n",
              "      <td>279</td>\n",
              "      <td>5</td>\n",
              "      <td>14</td>\n",
              "      <td>39</td>\n",
              "      <td>239.554</td>\n",
              "      <td>97</td>\n",
              "      <td>0</td>\n",
              "      <td>1</td>\n",
              "      <td>2</td>\n",
              "      <td>1</td>\n",
              "      <td>1</td>\n",
              "      <td>0</td>\n",
              "      <td>68</td>\n",
              "      <td>168</td>\n",
              "      <td>24</td>\n",
              "      <td>4</td>\n",
              "    </tr>\n",
              "    <tr>\n",
              "      <th>4</th>\n",
              "      <td>23</td>\n",
              "      <td>7</td>\n",
              "      <td>5</td>\n",
              "      <td>1</td>\n",
              "      <td>289</td>\n",
              "      <td>36</td>\n",
              "      <td>13</td>\n",
              "      <td>33</td>\n",
              "      <td>239.554</td>\n",
              "      <td>97</td>\n",
              "      <td>0</td>\n",
              "      <td>1</td>\n",
              "      <td>2</td>\n",
              "      <td>1</td>\n",
              "      <td>0</td>\n",
              "      <td>1</td>\n",
              "      <td>90</td>\n",
              "      <td>172</td>\n",
              "      <td>30</td>\n",
              "      <td>2</td>\n",
              "    </tr>\n",
              "  </tbody>\n",
              "</table>\n",
              "</div>"
            ],
            "text/plain": [
              "   reason  month  day  seasons  transport_expense  distance  service_time  \\\n",
              "0      26      7    3        1                289        36            13   \n",
              "1       0      7    3        1                118        13            18   \n",
              "2      23      7    4        1                179        51            18   \n",
              "3       7      7    5        1                279         5            14   \n",
              "4      23      7    5        1                289        36            13   \n",
              "\n",
              "   age  daily_avg_work_load  hit_target  disciplinary_failure  education  \\\n",
              "0   33              239.554          97                     0          1   \n",
              "1   50              239.554          97                     1          1   \n",
              "2   38              239.554          97                     0          1   \n",
              "3   39              239.554          97                     0          1   \n",
              "4   33              239.554          97                     0          1   \n",
              "\n",
              "   num_children  social_drinker  social_smoker  pet  weight  height  bmi  \\\n",
              "0             2               1              0    1      90     172   30   \n",
              "1             1               1              0    0      98     178   31   \n",
              "2             0               1              0    0      89     170   31   \n",
              "3             2               1              1    0      68     168   24   \n",
              "4             2               1              0    1      90     172   30   \n",
              "\n",
              "   absent_hours  \n",
              "0             4  \n",
              "1             0  \n",
              "2             2  \n",
              "3             4  \n",
              "4             2  "
            ]
          },
          "execution_count": 53,
          "metadata": {},
          "output_type": "execute_result"
        }
      ],
      "source": [
        "dat.head()"
      ]
    },
    {
      "cell_type": "markdown",
      "metadata": {},
      "source": [
        "## Random Forest Feature Selection"
      ]
    },
    {
      "cell_type": "code",
      "execution_count": null,
      "metadata": {},
      "outputs": [],
      "source": [
        "# Assuming 'absent_hours' is your target variable\n",
        "X = df.drop(['absent_hours', 'id'], axis=1)  # Remove target and ID column\n",
        "y = df['absent_hours']\n",
        "\n",
        "# Split data (80% train, 20% test)\n",
        "X_train, X_test, y_train, y_test = train_test_split(X, y, test_size=0.2, random_state=42)"
      ]
    },
    {
      "cell_type": "code",
      "execution_count": null,
      "metadata": {},
      "outputs": [],
      "source": []
    }
  ],
  "metadata": {
    "colab": {
      "provenance": []
    },
    "kernelspec": {
      "display_name": ".venv",
      "language": "python",
      "name": "python3"
    },
    "language_info": {
      "codemirror_mode": {
        "name": "ipython",
        "version": 3
      },
      "file_extension": ".py",
      "mimetype": "text/x-python",
      "name": "python",
      "nbconvert_exporter": "python",
      "pygments_lexer": "ipython3",
      "version": "3.9.22"
    }
  },
  "nbformat": 4,
  "nbformat_minor": 0
}
